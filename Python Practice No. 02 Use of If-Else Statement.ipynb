{
 "cells": [
  {
   "cell_type": "markdown",
   "metadata": {},
   "source": [
    "## Python Practice 02"
   ]
  },
  {
   "cell_type": "markdown",
   "metadata": {},
   "source": [
    "### Use of \"If-Else Statement\""
   ]
  },
  {
   "cell_type": "markdown",
   "metadata": {},
   "source": [
    "#### Made by: Dávila Estrada Victor Manuel and Mar Colunga Moises"
   ]
  },
  {
   "cell_type": "code",
   "execution_count": 8,
   "metadata": {},
   "outputs": [
    {
     "name": "stdout",
     "output_type": "stream",
     "text": [
      "How many hours do you sleep?1\n",
      "Oh darling I know what is like \n",
      "Why is the reason of sleeping that amount of time?\n",
      " In what do you invest most of your time?I study\n",
      "Oh, I feel you buddy\n",
      "In scale of 1 to 10 how will you grade this excercise?1\n",
      "I don't even know what I have read\n"
     ]
    }
   ],
   "source": [
    "hours = int(input(\"How many hours do you sleep?\"))\n",
    "if hours >= 8: \n",
    "    print(\"OH! I wish I could sleep that amount of time :(\") \n",
    "if hours <= 7:\n",
    "    print(\"Oh darling I know what is like \")\n",
    "print(\"Why is the reason of sleeping that amount of time?\")\n",
    "\n",
    "reason = str(input(\" In what do you invest most of your time?\"))\n",
    "if reason == \"I study\":\n",
    "    print(\"Oh, I feel you buddy\") \n",
    "elif reason == \"I work\": \n",
    "    print(\"Sorry to  hear that\") \n",
    "    \n",
    "opinion = int(input(\"In scale of 1 to 10 how will you grade this excercise?\"))\n",
    "if opinion >= 9:\n",
    "    print(\"You made an excellent job\") \n",
    "elif opinion <9 and opinion >=7:\n",
    "    print(\"I think you understood the topic\")\n",
    "    \n",
    "else:\n",
    "    print(\"I don't even know what I have read\")\n",
    "\n",
    "    \n",
    "\n"
   ]
  },
  {
   "cell_type": "code",
   "execution_count": null,
   "metadata": {},
   "outputs": [],
   "source": []
  }
 ],
 "metadata": {
  "kernelspec": {
   "display_name": "Python 3",
   "language": "python",
   "name": "python3"
  }
 },
 "nbformat": 4,
 "nbformat_minor": 2
}
