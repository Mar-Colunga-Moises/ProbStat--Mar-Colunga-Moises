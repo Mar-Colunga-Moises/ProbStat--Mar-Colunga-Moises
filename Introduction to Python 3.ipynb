{
 "cells": [
  {
   "cell_type": "markdown",
   "metadata": {},
   "source": [
    "# Introduction to Python 3"
   ]
  },
  {
   "cell_type": "markdown",
   "metadata": {},
   "source": [
    "### Learned Knowldege from Yesterday\n"
   ]
  },
  {
   "cell_type": "code",
   "execution_count": 27,
   "metadata": {},
   "outputs": [
    {
     "name": "stdout",
     "output_type": "stream",
     "text": [
      "The fisrt two excercises are refered to the explanation of how to introduce comments, by a #\n",
      "In these way we can introduce any kind of comment without being set in at the the time of running our program\n"
     ]
    }
   ],
   "source": [
    "print(\"The fisrt two excercises are refered to the explanation of how to introduce comments, by a #\")\n",
    "print(\"In these way we can introduce any kind of comment without being set in at the the time of running our program\")"
   ]
  },
  {
   "cell_type": "markdown",
   "metadata": {},
   "source": [
    "### Print"
   ]
  },
  {
   "cell_type": "code",
   "execution_count": 28,
   "metadata": {},
   "outputs": [
    {
     "name": "stdout",
     "output_type": "stream",
     "text": [
      "The option print give us the manner to put text or variables in our program, in easy words to make appeaer our instructions\n"
     ]
    }
   ],
   "source": [
    "print(\"The option print give us the manner to put text or variables in our program, in easy words to make appeaer our instructions\")"
   ]
  },
  {
   "cell_type": "markdown",
   "metadata": {},
   "source": [
    "### Variables and Mathematic Expression"
   ]
  },
  {
   "cell_type": "markdown",
   "metadata": {},
   "source": [
    "#### Mathematic Expression"
   ]
  },
  {
   "cell_type": "code",
   "execution_count": 30,
   "metadata": {},
   "outputs": [
    {
     "name": "stdout",
     "output_type": "stream",
     "text": [
      "The option and variables helps us to mathematic representation of different ways to solve our problems, using math symbols to make calculatiosn and setting variables as you wish.\n",
      "\n",
      "+(plus), - (minus), / (slash), * (asterisk), % (percent), <(less-than), > (greater-than), <= (less-than equal), >= (greater-than equal). \n",
      "An example of this:\n",
      "\n",
      "2+2\n",
      "\n",
      "4\n",
      "\n",
      "When we add a simle calculation usign the mathematic symbols, inside the parenthesis the program run that as instructions, it solves the mathematic problem inside the parenthesis and show us the result.\n"
     ]
    }
   ],
   "source": [
    "print(\"The option and variables helps us to mathematic representation of different ways to solve our problems, using math symbols to make calculatiosn and setting variables as you wish.\")\n",
    "print()\n",
    "print(\"+(plus), - (minus), / (slash), * (asterisk), % (percent), <(less-than), > (greater-than), <= (less-than equal), >= (greater-than equal). \")\n",
    "\n",
    "print(\"An example of this:\")\n",
    "print()\n",
    "print(\"2+2\") \n",
    "print()\n",
    "print(2+2)\n",
    "print()\n",
    "print(\"When we add a simle calculation usign the mathematic symbols, inside the parenthesis the program run that as instructions, it solves the mathematic problem inside the parenthesis and show us the result.\")"
   ]
  },
  {
   "cell_type": "markdown",
   "metadata": {},
   "source": [
    "#### Variables\n"
   ]
  },
  {
   "cell_type": "code",
   "execution_count": 43,
   "metadata": {},
   "outputs": [
    {
     "name": "stdout",
     "output_type": "stream",
     "text": [
      "In the chase of the variables, we can name or set one variable as the ways as we want for then, make changes in our problems\n",
      "\n",
      "An example of this will be:\n",
      "\n",
      "Definig my variables as names, with the objective of sum my age with the age of my partner, of the manner:\n",
      "yo=19\n",
      "tu=19\n",
      "And taking the variables, 'yo' and 'tu' and making a product of both will replace our variales with the value given previously\n",
      "The result will be:\n",
      "38\n"
     ]
    }
   ],
   "source": [
    "print(\"In the chase of the variables, we can name or set one variable as the ways as we want for then, make changes in our problems\")\n",
    "print()\n",
    "print(\"An example of this will be:\")\n",
    "print()\n",
    "yo=19\n",
    "tu=19\n",
    "print(\"Definig my variables as names, with the objective of sum my age with the age of my partner, of the manner:\")\n",
    "print(\"yo=19\")\n",
    "print(\"tu=19\")\n",
    "print(\"And taking the variables, 'yo' and 'tu' and making a product of both will replace our variales with the value given previously\")\n",
    "print(\"The result will be:\")\n",
    "print(yo+tu)"
   ]
  },
  {
   "cell_type": "markdown",
   "metadata": {},
   "source": [
    "#### More Variables"
   ]
  },
  {
   "cell_type": "code",
   "execution_count": 50,
   "metadata": {},
   "outputs": [
    {
     "name": "stdout",
     "output_type": "stream",
     "text": [
      "At the time of using double quotes, you can have troubles at the hour of define a variable inside a text that is betweeen quotes\n",
      "This is possible to make, by using the special {} secuence to put or vairable inside our string or line of thext.\n",
      "You also must include the letter f beore open the quotes this means 'format'.\n",
      "\n",
      "An example of this wil be:\n",
      " Victors age and mine together sum 38\n"
     ]
    }
   ],
   "source": [
    "print(\"At the time of using double quotes, you can have troubles at the hour of define a variable inside a text that is betweeen quotes\")\n",
    "print(\"This is possible to make, by using the special {} secuence to put or vairable inside our string or line of thext.\")\n",
    "print(\"You also must include the letter f beore open the quotes this means 'format'.\" )\n",
    "print()\n",
    "print(\"An example of this wil be:\")\n",
    "print(f\" Victors age and mine together sum {yo+tu}\")\n",
    "\n",
    "       \n"
   ]
  },
  {
   "cell_type": "markdown",
   "metadata": {},
   "source": [
    "### More examples"
   ]
  },
  {
   "cell_type": "code",
   "execution_count": 55,
   "metadata": {},
   "outputs": [
    {
     "name": "stdout",
     "output_type": "stream",
     "text": [
      "The promo for today is our perfect\n",
      "..........\n",
      "Chicken\n",
      "#Here is important to define the defined variabe with quotes if you are using text \n"
     ]
    }
   ],
   "source": [
    "print(\"The promo for today is our perfect\")\n",
    "print(\".\"*10)\n",
    "x1=\"C\"\n",
    "x2=\"h\"\n",
    "x3=\"i\"\n",
    "x4=\"c\"\n",
    "x5=\"k\"\n",
    "x6=\"e\"\n",
    "x7=\"n\"\n",
    "print(x1+x2+x3+x4+x5+x6+x7)\n",
    "print(\"#Here is important to define the defined variabe with quotes if you are using text \")"
   ]
  },
  {
   "cell_type": "markdown",
   "metadata": {},
   "source": [
    "##### More and more examples"
   ]
  },
  {
   "cell_type": "code",
   "execution_count": 62,
   "metadata": {},
   "outputs": [
    {
     "name": "stdout",
     "output_type": "stream",
     "text": [
      "\n",
      "1 2 3 4\n",
      "In french you count that numbers as:\n",
      "un deux troix quatre\n",
      "\n",
      "And you should pronounce it like:\n",
      "an doo troa catr\n",
      "#What is realized here is a fuction to turn our variable in to other strings by the form .format(...)\n",
      "Also putting 3 quotes for a text gives you the oportunity to insert a text of more than 4 until 6 lines.\n"
     ]
    }
   ],
   "source": [
    "options= \"{} {} {} {}\"\n",
    "print()\n",
    "print(options.format(1, 2, 3, 4))\n",
    "print(\"In french you count that numbers as:\")\n",
    "print(options.format(\"un\", \"deux\", \"troix\", \"quatre\"))\n",
    "print()\n",
    "print(\"And you should pronounce it like:\")\n",
    "print(options.format(\"an\", \"doo\", \"troa\", \"catr\"))\n",
    "print(\"#What is realized here is a fuction to turn our variable in to other strings by the form .format(...)\")\n",
    "print(\"Also putting 3 quotes for a text gives you the oportunity to insert a text of more than 4 until 6 lines.\")\n"
   ]
  },
  {
   "cell_type": "markdown",
   "metadata": {},
   "source": [
    "### More and more and more examples"
   ]
  },
  {
   "cell_type": "code",
   "execution_count": 65,
   "metadata": {},
   "outputs": [
    {
     "name": "stdout",
     "output_type": "stream",
     "text": [
      "\n",
      "Here are the days MON TUE WED THU FRI DAT SUN\n",
      "Here are the months Jan\n",
      "Feb\n",
      "Mar\n",
      "Apr\n",
      "May\n",
      "Jun\n",
      "Jul\n",
      "Aug\n",
      "Now adding to our code w quotes we are able to write using more lines without any trouble.\n",
      "The new stuff in this example is the slash that his functions in to show in a vertical way the data expresed by the variables.\n"
     ]
    }
   ],
   "source": [
    "days=\"MON TUE WED THU FRI DAT SUN\"\n",
    "months=\"Jan\\nFeb\\nMar\\nApr\\nMay\\nJun\\nJul\\nAug\"\n",
    "print()\n",
    "print(\"Here are the days\",days)\n",
    "print(\"Here are the months\",months)\n",
    "print(\"\"\"Now adding to our code w quotes we are able to write using more lines without any trouble.\n",
    "The new stuff in this example is the slash that his functions in to show in a vertical way the data expresed by the variables.\"\"\")\n"
   ]
  },
  {
   "cell_type": "code",
   "execution_count": 88,
   "metadata": {},
   "outputs": [
    {
     "name": "stdout",
     "output_type": "stream",
     "text": [
      "As a result of the learnt knowledge we made this list including the most part of types of strings\n",
      "\t It is green\n",
      "Are green \\ and healthy\n",
      "I don't like lettuce\n",
      "Things that I need to buy: \n",
      "\t* Avocados \n",
      "\t* Spinachs \n",
      "\t*Lettuce\n"
     ]
    }
   ],
   "source": [
    "print(\"As a result of the learnt knowledge we made this list including the most part of types of strings\")\n",
    "\n",
    "\n",
    "Avocado= \"\\t It is green\"\n",
    "Spinachs= \"Are green \\ and healthy\"\n",
    "Lettuce= \"I don't like lettuce\"\n",
    "\n",
    "buy= \"\"\"Things that I need to buy: \n",
    "\\t* Avocados \n",
    "\\t* Spinachs \n",
    "\\t*Lettuce\"\"\"\n",
    "\n",
    "\n",
    "print(Avocado)\n",
    "print(Spinachs)\n",
    "print(Lettuce)\n",
    "print(buy)\n"
   ]
  },
  {
   "cell_type": "markdown",
   "metadata": {},
   "source": [
    "### Conclusion"
   ]
  },
  {
   "cell_type": "code",
   "execution_count": 92,
   "metadata": {},
   "outputs": [
    {
     "name": "stdout",
     "output_type": "stream",
     "text": [
      "For conclusion I would like to say the simplicity of using Jupyter to make this, this work resumes the inicial features to the introduction to python.)\n",
      "And new oportunities to realize new works.\n"
     ]
    }
   ],
   "source": [
    "print(\"\"\"For conclusion I would like to say the simplicity of using Jupyter to make this, this work resumes the inicial features to the introduction to python.)\n",
    "And new oportunities to realize new works.\"\"\")"
   ]
  },
  {
   "cell_type": "markdown",
   "metadata": {},
   "source": [
    "### Made by : Mar Colunga Moises y Davila Estrada Victor Manuel"
   ]
  },
  {
   "cell_type": "code",
   "execution_count": null,
   "metadata": {},
   "outputs": [],
   "source": []
  },
  {
   "cell_type": "code",
   "execution_count": null,
   "metadata": {},
   "outputs": [],
   "source": []
  }
 ],
 "metadata": {
  "kernelspec": {
   "display_name": "Python 3",
   "language": "python",
   "name": "python3"
  },
  "language_info": {
   "codemirror_mode": {
    "name": "ipython",
    "version": 3
   },
   "file_extension": ".py",
   "mimetype": "text/x-python",
   "name": "python",
   "nbconvert_exporter": "python",
   "pygments_lexer": "ipython3",
   "version": "3.7.3"
  }
 },
 "nbformat": 4,
 "nbformat_minor": 2
}
