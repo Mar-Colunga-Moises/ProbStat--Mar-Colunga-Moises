{
 "cells": [
  {
   "cell_type": "markdown",
   "metadata": {},
   "source": [
    "## Practice 01"
   ]
  },
  {
   "cell_type": "markdown",
   "metadata": {},
   "source": [
    "### Made by Davila Estrada Victor Manuel and Moises Mar Colunga"
   ]
  },
  {
   "cell_type": "code",
   "execution_count": 3,
   "metadata": {},
   "outputs": [
    {
     "name": "stdout",
     "output_type": "stream",
     "text": [
      "What is your name? Moises\n",
      "Hi,Moises\n",
      "How old are you? 19\n",
      "Really? you are 19?\n"
     ]
    }
   ],
   "source": [
    "print(\"What is your name?\", end =' ') #Example\n",
    "name = input()\n",
    "print(f\"Hi,{name}\")\n",
    "age= int(input(\"How old are you?\"))\n",
    "print(f\"Really? you are {age}?\")"
   ]
  },
  {
   "cell_type": "code",
   "execution_count": 13,
   "metadata": {},
   "outputs": [
    {
     "name": "stdout",
     "output_type": "stream",
     "text": [
      "what is your name moises\n",
      "Hi, moises\n",
      "How old are you?19\n",
      "Really? you are 19?\n"
     ]
    }
   ],
   "source": [
    "name=str(input(\"what is your name\")) #Just changing the way of doing it in the firt line.\n",
    "\n",
    "print(f\"Hi,{name}\")\n",
    "age= int(input(\"How old are you?\"))\n",
    "print(f\"Really? you are {age}?\")"
   ]
  },
  {
   "cell_type": "markdown",
   "metadata": {},
   "source": [
    "### Practice.\n"
   ]
  },
  {
   "cell_type": "code",
   "execution_count": 17,
   "metadata": {},
   "outputs": [
    {
     "name": "stdout",
     "output_type": "stream",
     "text": [
      "How old are you?19\n",
      "How old are you?17\n",
      "How old are you?21\n",
      "Student 1 is:´19 years old\n",
      "Student 2 is:´17 years old\n",
      "Student 3 is:´21 years old\n",
      " The sample mean is 19.0\n"
     ]
    }
   ],
   "source": [
    "age1= int(input(\"How old are you?\"))\n",
    "age2= int(input(\"How old are you?\"))\n",
    "age3= int(input(\"How old are you?\"))\n",
    "print(f\"Student 1 is:´{age1} years old\") \n",
    "print(f\"Student 2 is:´{age2} years old\") \n",
    "print(f\"Student 3 is:´{age3} years old\") \n",
    "average = (age1+age2+age3)/3 \n",
    "\n",
    "print(f\" The sample mean is {average}\")\n"
   ]
  },
  {
   "cell_type": "code",
   "execution_count": null,
   "metadata": {},
   "outputs": [],
   "source": []
  }
 ],
 "metadata": {
  "kernelspec": {
   "display_name": "Python 3",
   "language": "python",
   "name": "python3"
  },
  "language_info": {
   "codemirror_mode": {
    "name": "ipython",
    "version": 3
   },
   "file_extension": ".py",
   "mimetype": "text/x-python",
   "name": "python",
   "nbconvert_exporter": "python",
   "pygments_lexer": "ipython3",
   "version": "3.7.3"
  }
 },
 "nbformat": 4,
 "nbformat_minor": 2
}
