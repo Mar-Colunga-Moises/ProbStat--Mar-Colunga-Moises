{
 "cells": [
  {
   "cell_type": "markdown",
   "metadata": {},
   "source": [
    "## Practice 04 \n",
    "#### Made by : Davila Estrada Victor Manuel & Mar Colunga Moises"
   ]
  },
  {
   "cell_type": "markdown",
   "metadata": {},
   "source": [
    "#### Develop a program that calculates sample mean, mode and standard deviation based in set of data introduced by the user. The program must ask what operation the user wants to calculate.\n"
   ]
  },
  {
   "cell_type": "code",
   "execution_count": 4,
   "metadata": {},
   "outputs": [
    {
     "name": "stdout",
     "output_type": "stream",
     "text": [
      "Introduce the number of values that you will use: 10\n",
      "value: 1\n",
      "value: 2\n",
      "value: 3\n",
      "value: 4\n",
      "value: 5\n",
      "value: 6\n",
      "value: 7\n",
      "value: 8\n",
      "value: 9\n",
      "value: 2\n",
      "Choose an operation to do: \n",
      "[1] standard deviation\n",
      "[2] sample mean\n",
      "[3] mode\n",
      "\n",
      " Choose an option: 3\n",
      "\n",
      "values\n",
      "The mode is: [2.0]\n"
     ]
    }
   ],
   "source": [
    "mvalues = int(input(\"Introduce the number of values that you will use: \"))# Here we introduce a list, this list will include all the necessary data for doing the calculations.\n",
    "\n",
    "m_values = []\n",
    "total = 0\n",
    "variablex = 0\n",
    "for z in range(0,mvalues):   # In this part we insert the list that we will use for calculations.\n",
    "    h = float(input(\"value: \"))\n",
    "    m_values.append(h)\n",
    "    total += h\n",
    "\n",
    "sampleM = total/mvalues  # Here we Indicate the sample mean\n",
    "\n",
    "for g in range (0,mvalues):\n",
    "    Sum_zh = ((m_values[g] - sampleM)**2)/(mvalues-1)\n",
    "    variablex += Sum_zh \n",
    "\n",
    "\n",
    "print('''Choose an operation to do: \n",
    "[1] standard deviation\n",
    "[2] sample mean\n",
    "[3] mode''')  # In this part we give the options to obtain, the calculation wanted.\n",
    "\n",
    "option = int(input(\"\\n Choose an option: \"))\n",
    "print(\"\\nvalues\")   \n",
    "\n",
    "if option == 1:\n",
    "    s = variablex**(0.5)\n",
    "    print(f\"The standard deviation is: {s}\")    \n",
    "\n",
    "if option == 2:\n",
    "    print(f\"The sample mean is: {sampleM}\")    \n",
    "\n",
    "\n",
    "if option == 3:\n",
    "    rep = 0\n",
    "    for z in m_values:\n",
    "        counts = m_values.count(z)\n",
    "        if counts > rep:\n",
    "            rep = counts\n",
    "    \n",
    "    mode = []                       # And throught the use of lists and loops we clasify what it can be done.\n",
    "    \n",
    "    for z in m_values:\n",
    "        counts = m_values.count(z)\n",
    "        if counts == rep and z not in mode:\n",
    "            mode.append(z)\n",
    "            \n",
    "    if len(mode) != len(m_values):\n",
    "        print(f\"The mode is: {mode}\")  #The programm ends when you have obtained your calculation.\n",
    "    else:\n",
    "        print(\"No mode\")"
   ]
  },
  {
   "cell_type": "code",
   "execution_count": null,
   "metadata": {},
   "outputs": [],
   "source": []
  }
 ],
 "metadata": {
  "kernelspec": {
   "display_name": "Python 3",
   "language": "python",
   "name": "python3"
  },
  "language_info": {
   "codemirror_mode": {
    "name": "ipython",
    "version": 3
   },
   "file_extension": ".py",
   "mimetype": "text/x-python",
   "name": "python",
   "nbconvert_exporter": "python",
   "pygments_lexer": "ipython3",
   "version": "3.7.3"
  }
 },
 "nbformat": 4,
 "nbformat_minor": 2
}
