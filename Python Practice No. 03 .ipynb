{
 "cells": [
  {
   "cell_type": "markdown",
   "metadata": {},
   "source": [
    "## Python Practice No. 03 "
   ]
  },
  {
   "cell_type": "markdown",
   "metadata": {},
   "source": [
    " #### Made by Davila Estrada Victor Manuel y Mar Colunga Moises"
   ]
  },
  {
   "cell_type": "code",
   "execution_count": 8,
   "metadata": {},
   "outputs": [
    {
     "name": "stdout",
     "output_type": "stream",
     "text": [
      "How many people do you want to register5\n",
      "Introduce the people`s name:a\n",
      "Introduce the people`s name:b\n",
      "Introduce the people`s name:c\n",
      "Introduce the people`s name:d\n",
      "Introduce the people`s name:e\n",
      "wich name do you want to show4\n",
      "The name 4 is d \n"
     ]
    }
   ],
   "source": [
    "pp = int(input(\"How many people do you want to register\"))\n",
    "names = []\n",
    "for i in range(0, pp):\n",
    "    x =input(\"Introduce the people`s name:\")\n",
    "    names.append(x)\n",
    "    \n",
    "z = int(input(\"wich name do you want to show\"))\n",
    "z2= z-1\n",
    "print(f\"The name {z} is {names[z2]} \")    "
   ]
  },
  {
   "cell_type": "code",
   "execution_count": null,
   "metadata": {},
   "outputs": [],
   "source": []
  },
  {
   "cell_type": "code",
   "execution_count": null,
   "metadata": {},
   "outputs": [],
   "source": []
  }
 ],
 "metadata": {
  "kernelspec": {
   "display_name": "Python 3",
   "language": "python",
   "name": "python3"
  },
  "language_info": {
   "codemirror_mode": {
    "name": "ipython",
    "version": 3
   },
   "file_extension": ".py",
   "mimetype": "text/x-python",
   "name": "python",
   "nbconvert_exporter": "python",
   "pygments_lexer": "ipython3",
   "version": "3.7.3"
  }
 },
 "nbformat": 4,
 "nbformat_minor": 2
}
